{
 "cells": [
  {
   "cell_type": "markdown",
   "id": "6d9c79f8",
   "metadata": {},
   "source": [
    "## [1] calculate the age."
   ]
  },
  {
   "cell_type": "code",
   "execution_count": 6,
   "id": "0b83ac50",
   "metadata": {},
   "outputs": [
    {
     "name": "stdout",
     "output_type": "stream",
     "text": [
      "Present Age\n",
      "Years: 22 Months: 2 Days: 8\n"
     ]
    }
   ],
   "source": [
    "# Python program to calculate range\n",
    "\n",
    "def findAge(current_date, current_month, current_year,birth_date, birth_month, birth_year):\n",
    "    \n",
    "\n",
    "    # if birth date is greater then current birth_month\n",
    "    # then donot count this month and add 30 to the date so\n",
    "    # as to subtract the date and get the remaining days\n",
    "\n",
    "    month =[31, 28, 31, 30, 31, 30, 31, 31, 30, 31, 30, 31]\n",
    "    if (birth_date > current_date):\n",
    "        current_month = current_month - 1\n",
    "        current_date = current_date + month[birth_month-1]\n",
    "\n",
    "    # if birth month exceeds current month, then\n",
    "    # donot count this year and add 12 to the\n",
    "    # month so that we can subtract and find out\n",
    "    # the difference\n",
    "    if (birth_month > current_month):\n",
    "        \n",
    "        current_year = current_year - 1;\n",
    "        current_month = current_month + 12;\n",
    "\n",
    "    # calculate date, month, year\n",
    "    calculated_date = current_date - birth_date;\n",
    "    calculated_month = current_month - birth_month;\n",
    "    calculated_year = current_year - birth_year;\n",
    "\n",
    "    # print present age\n",
    "    print(\"Present Age\")\n",
    "    print(\"Years:\", calculated_year, \"Months:\",calculated_month, \"Days:\", calculated_date)\n",
    "\n",
    "# driver code\n",
    "current_date = 19\n",
    "current_month = 3\n",
    "current_year = 2022\n",
    "# birth dd//mm//yyyy\n",
    "birth_date = 11\n",
    "birth_month = 1\n",
    "birth_year = 2000\n",
    "\n",
    "findAge(current_date, current_month, current_year,birth_date, birth_month, birth_year)\n"
   ]
  },
  {
   "cell_type": "markdown",
   "id": "a15f4241",
   "metadata": {},
   "source": [
    "## [2]convert number to words"
   ]
  },
  {
   "cell_type": "code",
   "execution_count": 8,
   "id": "5c2b17e0",
   "metadata": {},
   "outputs": [
    {
     "name": "stdout",
     "output_type": "stream",
     "text": [
      "Enter any number: 494\n",
      "494 in words is: Four Hundred Ninety Four  \n"
     ]
    }
   ],
   "source": [
    "ones = ('Zero', 'One', 'Two', 'Three', 'Four', 'Five', 'Six', 'Seven', 'Eight', 'Nine')\n",
    "\n",
    "twos = ('Ten', 'Eleven', 'Twelve', 'Thirteen', 'Fourteen', 'Fifteen', 'Sixteen', 'Seventeen', 'Eighteen', 'Nineteen')\n",
    "\n",
    "tens = ('Twenty', 'Thirty', 'Forty', 'Fifty', 'Sixty', 'Seventy', 'Eighty', 'Ninety', 'Hundred')\n",
    "\n",
    "suffixes = ('', 'Thousand', 'Million', 'Billion')\n",
    "\n",
    "def process(number, index):\n",
    "    \n",
    "    if number=='0':\n",
    "        return 'Zero'\n",
    "    \n",
    "    length = len(number)\n",
    "    \n",
    "    if(length > 3):\n",
    "        return False\n",
    "    \n",
    "    number = number.zfill(3)\n",
    "    words = ''\n",
    "    hdigit = int(number[0])\n",
    "    tdigit = int(number[1])\n",
    "    odigit = int(number[2])\n",
    "    \n",
    "    words += '' if number[0] == '0' else ones[hdigit]\n",
    "    words += ' Hundred ' if not words == '' else ''\n",
    "    \n",
    "    if(tdigit > 1):\n",
    "        words += tens[tdigit - 2]\n",
    "        words += ' '\n",
    "        words += ones[odigit]\n",
    "    \n",
    "    elif(tdigit == 1):\n",
    "        words += twos[(int(tdigit + odigit) % 10) - 1]\n",
    "        \n",
    "    elif(tdigit == 0):\n",
    "        words += ones[odigit]\n",
    "\n",
    "    if(words.endswith('Zero')):\n",
    "        words = words[:-len('Zero')]\n",
    "    else:\n",
    "        words += ' '\n",
    "     \n",
    "    if(not len(words) == 0):    \n",
    "        words += suffixes[index]\n",
    "        \n",
    "    return words;\n",
    "def getWords(number):\n",
    "    length = len(str(number))\n",
    "    \n",
    "    if length>12:\n",
    "        return 'This program supports upto 12 digit numbers.'\n",
    "    \n",
    "    count = length // 3 if length % 3 == 0 else length // 3 + 1\n",
    "    copy = count\n",
    "    words = []\n",
    " \n",
    "    for i in range(length - 1, -1, -3):\n",
    "        words.append(process(str(number)[0 if i - 2 < 0 else i - 2 : i + 1], copy - count))\n",
    "        count -= 1;\n",
    "\n",
    "    final_words = ''\n",
    "    for s in reversed(words):\n",
    "        temp = s + ' '\n",
    "        final_words += temp\n",
    "    \n",
    "    return final_words\n",
    "number = int(input('Enter any number: '))\n",
    "print('%d in words is: %s' %(number, getWords(number)))"
   ]
  },
  {
   "cell_type": "code",
   "execution_count": null,
   "id": "a114375d",
   "metadata": {},
   "outputs": [],
   "source": []
  }
 ],
 "metadata": {
  "kernelspec": {
   "display_name": "Python 3",
   "language": "python",
   "name": "python3"
  },
  "language_info": {
   "codemirror_mode": {
    "name": "ipython",
    "version": 3
   },
   "file_extension": ".py",
   "mimetype": "text/x-python",
   "name": "python",
   "nbconvert_exporter": "python",
   "pygments_lexer": "ipython3",
   "version": "3.8.8"
  }
 },
 "nbformat": 4,
 "nbformat_minor": 5
}
